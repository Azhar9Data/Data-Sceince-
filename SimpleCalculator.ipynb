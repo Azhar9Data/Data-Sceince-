{
  "nbformat": 4,
  "nbformat_minor": 0,
  "metadata": {
    "colab": {
      "provenance": [],
      "authorship_tag": "ABX9TyPVSm9RU5QH3W6ewo4ywOD5",
      "include_colab_link": true
    },
    "kernelspec": {
      "name": "python3",
      "display_name": "Python 3"
    },
    "language_info": {
      "name": "python"
    }
  },
  "cells": [
    {
      "cell_type": "markdown",
      "metadata": {
        "id": "view-in-github",
        "colab_type": "text"
      },
      "source": [
        "<a href=\"https://colab.research.google.com/github/Azhar9Data/Data-Sceince-/blob/main/SimpleCalculator.ipynb\" target=\"_parent\"><img src=\"https://colab.research.google.com/assets/colab-badge.svg\" alt=\"Open In Colab\"/></a>"
      ]
    },
    {
      "cell_type": "code",
      "source": [
        "# This function adds two numbers\n",
        "def add(x, y):\n",
        "    return x + y\n",
        "\n",
        "# This function subtracts two numbers\n",
        "def subtract(x, y):\n",
        "    return x - y\n",
        "\n",
        "# This function multiplies two numbers\n",
        "def multiply(x, y):\n",
        "    return x * y\n",
        "\n",
        "# This function divides two numbers\n",
        "def divide(x, y):\n",
        "    return x / y\n",
        "\n",
        "# This function squares a number\n",
        "def square(x):\n",
        "    return x * x\n",
        "\n",
        "# This function raises a number to a power\n",
        "def power(x, y):\n",
        "    return x ** y\n",
        "\n",
        "# This function calculates the square root of a number\n",
        "def square_root(x):\n",
        "    return x ** 0.5\n",
        "\n",
        "print(\"Select operation.\")\n",
        "print(\"1. Add\")\n",
        "print(\"2. Subtract\")\n",
        "print(\"3. Multiply\")\n",
        "print(\"4. Divide\")\n",
        "print(\"5. Square\")\n",
        "print(\"6. Power\")\n",
        "print(\"7. Square Root\")\n",
        "\n",
        "while True:\n",
        "    # Take input from the user\n",
        "    choice = input(\"Enter choice (1/2/3/4/5/6/7): \")\n",
        "\n",
        "    # Check if choice is one of the options\n",
        "    if choice in ('1', '2', '3', '4', '5', '6', '7'):\n",
        "        try:\n",
        "            if choice in ('5', '7'):  # Square and Square Root only need one number\n",
        "                num1 = float(input(\"Enter a number: \"))\n",
        "                if choice == '5':\n",
        "                    print(num1, \"^2 =\", square(num1))\n",
        "                elif choice == '7':\n",
        "                    print(\"√\", num1, \"=\", square_root(num1))\n",
        "            else:\n",
        "                num1 = float(input(\"Enter first number: \"))\n",
        "                num2 = float(input(\"Enter second number: \"))\n",
        "\n",
        "                if choice == '1':\n",
        "                    print(num1, \"+\", num2, \"=\", add(num1, num2))\n",
        "                elif choice == '2':\n",
        "                    print(num1, \"-\", num2, \"=\", subtract(num1, num2))\n",
        "                elif choice == '3':\n",
        "                    print(num1, \"*\", num2, \"=\", multiply(num1, num2))\n",
        "                elif choice == '4':\n",
        "                    if num2 == 0:\n",
        "                        print(\"Error! Division by zero.\")\n",
        "                    else:\n",
        "                        print(num1, \"/\", num2, \"=\", divide(num1, num2))\n",
        "                elif choice == '6':\n",
        "                    print(num1, \"^\", num2, \"=\", power(num1, num2))\n",
        "\n",
        "        except ValueError:\n",
        "            print(\"Invalid input. Please enter a number.\")\n",
        "\n",
        "        # Check if user wants another calculation\n",
        "        next_calculation = input(\"Let's do the next calculation? (yes/no): \")\n",
        "        if next_calculation.lower() == \"no\":\n",
        "            break\n",
        "    else:\n",
        "        print(\"Invalid Input\")"
      ],
      "metadata": {
        "colab": {
          "base_uri": "https://localhost:8080/"
        },
        "id": "piGM9IVUGx9D",
        "outputId": "0962f4f4-996e-4ee2-c196-11d1b61b4a32"
      },
      "execution_count": null,
      "outputs": [
        {
          "name": "stdout",
          "output_type": "stream",
          "text": [
            "Select operation.\n",
            "1. Add\n",
            "2. Subtract\n",
            "3. Multiply\n",
            "4. Divide\n",
            "5. Square\n",
            "6. Power\n",
            "7. Square Root\n",
            "Enter choice (1/2/3/4/5/6/7): 3\n",
            "Enter first number: 3\n",
            "Enter second number: 3\n",
            "3.0 * 3.0 = 9.0\n",
            "Let's do the next calculation? (yes/no): yes\n"
          ]
        }
      ]
    }
  ]
}